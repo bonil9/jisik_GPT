{
 "cells": [
  {
   "cell_type": "code",
   "execution_count": 7,
   "id": "07f5c77f",
   "metadata": {},
   "outputs": [
    {
     "data": {
      "text/plain": [
       "AIMessage(content='이재명은 대한민국의 대통령이 아닙니다. 그는 경기도지사와 더불어민주당의 주요 인물로 알려져 있으며, 2022년 대통령 선거에 후보로 출마했지만 당선되지 않았습니다. 현재 대한민국의 대통령은 윤석열입니다.', additional_kwargs={'refusal': None}, response_metadata={'token_usage': {'completion_tokens': 63, 'prompt_tokens': 18, 'total_tokens': 81, 'completion_tokens_details': {'accepted_prediction_tokens': 0, 'audio_tokens': 0, 'reasoning_tokens': 0, 'rejected_prediction_tokens': 0}, 'prompt_tokens_details': {'audio_tokens': 0, 'cached_tokens': 0}}, 'model_name': 'gpt-4o-mini-2024-07-18', 'system_fingerprint': 'fp_62a23a81ef', 'id': 'chatcmpl-BhZT68ibwxnkfQDyCxKPIXSptrN37', 'service_tier': 'default', 'finish_reason': 'stop', 'logprobs': None}, id='run--4fa4500b-0a2d-4bd1-8671-73f447719493-0', usage_metadata={'input_tokens': 18, 'output_tokens': 63, 'total_tokens': 81, 'input_token_details': {'audio': 0, 'cache_read': 0}, 'output_token_details': {'audio': 0, 'reasoning': 0}})"
      ]
     },
     "execution_count": 7,
     "metadata": {},
     "output_type": "execute_result"
    }
   ],
   "source": [
    "from langchain_openai import ChatOpenAI\n",
    "\n",
    "llm = ChatOpenAI(model=\"gpt-4o-mini\", temperature=0.5)\n",
    "                 \n",
    "llm.invoke(\"이재명 대통령이 몇 대 대통령이야?\")"
   ]
  },
  {
   "cell_type": "code",
   "execution_count": null,
   "id": "b84c0c9d",
   "metadata": {},
   "outputs": [
    {
     "ename": "SyntaxError",
     "evalue": "invalid syntax (2070405645.py, line 2)",
     "output_type": "error",
     "traceback": [
      "\u001b[1;36m  Cell \u001b[1;32mIn[15], line 2\u001b[1;36m\u001b[0m\n\u001b[1;33m    from StrOutputParser import StrOutputParser()\u001b[0m\n\u001b[1;37m                                               ^\u001b[0m\n\u001b[1;31mSyntaxError\u001b[0m\u001b[1;31m:\u001b[0m invalid syntax\n"
     ]
    }
   ],
   "source": [
    "from langchain_core.prompts import ChatPromptTemplate\n",
    "from langchain_core.output_parsers import StrOutputParser\n",
    "\n",
    "prompt = ChatPromptTemplate.from_messages(\n",
    "    [\n",
    "        (\"system\",\n",
    "            \"\"\"    \n",
    "            당신은 글쓰기 채점 및 피드백 도우미입니다. \n",
    "            학생이 현재까지 쓴 글을 읽고, 최저 {min_score}점에서 최대 {max_score}점의 점수를 제공해주세요.\n",
    "            \"\"\"\n",
    "        ),\n",
    "        (\"human\", \n",
    "            \"\"\"\n",
    "            {input}\n",
    "            \"\"\"\n",
    "         )\n",
    "    ]\n",
    ")\n",
    "\n",
    "chain = prompt | llm | StrOutputParser()\n",
    "\n",
    "chain.invoke({\n",
    "    \"min_score\": input(\"최소 점수 입력: \"),\n",
    "    \"max_score\": input(\"최대 점수 입력: \"),\n",
    "    \"input\": input(\"학생의 글 입력: \")\n",
    "})"
   ]
  }
 ],
 "metadata": {
  "kernelspec": {
   "display_name": "jisik_env",
   "language": "python",
   "name": "python3"
  },
  "language_info": {
   "codemirror_mode": {
    "name": "ipython",
    "version": 3
   },
   "file_extension": ".py",
   "mimetype": "text/x-python",
   "name": "python",
   "nbconvert_exporter": "python",
   "pygments_lexer": "ipython3",
   "version": "3.10.6"
  }
 },
 "nbformat": 4,
 "nbformat_minor": 5
}
